{
 "cells": [
  {
   "cell_type": "markdown",
   "id": "3154722f-a089-45ae-96ca-f76a78b7324b",
   "metadata": {},
   "source": [
    "![imagen](https://patricioaraneda.cl/wp-content/uploads/2023/05/udla-logo-sm.png)\n",
    "# Magíster en Data Science\n",
    "\n",
    "# Examen Machine Learning I\n",
    "\n",
    "El objetivo de este examen es evaluar los contenidos aprendidos en este bimestre en Machine Learning I, que aborda el aprendizaje no supervisado. \n",
    "\n",
    "**Indicaciones geneales del examen:**\n",
    "\n",
    "- Las respuestas de este examen deberán ser entregadas por correo electrónico a ambos profesores en donde el asunto debe tener el formato:\n",
    "    - **[Examen] NombreApellido1Apellido2**. \n",
    "- Serán consideradas sólo las respuestas antes del día lunes 26 de junio a las 23:59 hrs.\n",
    "- El formato de entrega debe ser un notebook .ipynb que de cuenta del buen uso de Markdown y Python\n",
    "- Se debe cuidar la presentación, la redacción y la ortografía. Se penalizará puntaje si el trabajo no es prolijo en estos términos\n",
    "- Al respecto de los adjuntos o adicionales:\n",
    "    - Si bien puede tener archivos .csv adicionales al notebook, para un mejor orden, sugiero subir el csv a cualquier FTP y que la lectura del archivo se haga directamente a la url. Pandas funciona bien leyendo archivos que están en una dirección web. \n",
    "     - Otra alternativa es subirlo a una base de datos, si es sql se puede usar pd.read_sql. En ese caso, para yo ejecutar la solución, debo tener las credenciales.\n",
    "    - También es aceptable subir el proyecto a un repositorio (publico, en github/gitlab/bickbucket). \n",
    "- Las imágenes si se pueden adjuntar en un notebook en celdas tipo markdown o tipo codigo (ref: https://stackoverflow.com/questions/10628262/inserting-image-into-ipython-notebook-markdown)\n",
    "- Cualquier otro formato u otra vía de entrega será penalizada con la nota mínima.\n",
    "\n"
   ]
  },
  {
   "cell_type": "markdown",
   "id": "370ec389-2645-4ac2-b597-8f855f8afc9f",
   "metadata": {},
   "source": [
    "## Problema 1: Clasificando departamentos"
   ]
  },
  {
   "cell_type": "markdown",
   "id": "a5e014b1-bdf3-403f-929c-6df5f8af206e",
   "metadata": {},
   "source": [
    "Suponga que usted trabaja en una entidad gubernamental de planificación urbana de una ciudad como científico de datos, y es parte de un proyecto de clasificación de inmuebles, y para ello, le solicitan estudiar datos de EEUU para luego aplicar esa metodología en Chile, ya que aún están en la etapa de recolección de datos, que como usted ya sabe, a veces puede ser lo más dificil de obtener en un proyecto centrado en datos.\n",
    "\n",
    "Este dataset se encuentra en https://archive.ics.uci.edu/dataset/555/apartment+for+rent+classified\n",
    "\n",
    "El objetivo de este problema es implementar un análisis completo de segmentación de departamentos. Para ello, siga estas indicaciones y responda si corresponde:\n",
    "\n",
    "- Descargar el archivo adjunto. Puede escoger el dataset de 10.000 filas o de 100.000 filas\n",
    "- Realice una limpieza de datos adecuada\n",
    "- Descarte las variables cualitativas, es decir, filtre las columnas de manera tal de sólo operar con variables cuantitativas\n",
    "- Realice un análisis descriptivo de datos. Concluya.\n",
    "- Realice la reducción de dimensiones, si es pertinente\n",
    "- Aplique **más de un** método de clusterización \n",
    "- Interpretar los clusters obtenidos\n",
    "- Evaluar los métodos de clusterización y comparar. Concluya. \n",
    "- ¿De qué manera sus conclusiones podrían cambiar cuando aplique este análisis al caso chileno?\n",
    "- ¿Cömo la información cualitativa que descartó le podría servir para mejorar la clusterización? Si es posible, implemente un método que permita operar con variables cualitativas y re-interprete los resultados"
   ]
  },
  {
   "cell_type": "markdown",
   "id": "89d59f00-cc32-41ef-8267-9f2bc6ed13c1",
   "metadata": {},
   "source": [
    "## Problema 2: Implementando un sistema de recomendación \n",
    "\n",
    "En la siguiente URL: https://tinyurl.com/4hs9db8n ud accederá a un repositorio donde se encuentra un dataset de compra de diferentes tipos de abarrotes. La primera columna es un identificador de boleta, la segunda es la fecha de compra y la tercera el producto comprado. \n",
    "\n",
    "Implemente un sistema recomendador usando como base el algoritmo Apriori. Para ello, debe hacer un análisis de datos adecuado para poder ejecutar el algoritmo. Compare diferentes agrupaciones temporales y concluya. \n",
    "\n",
    "**Opcional (puntaje bonus):** Si es posible, despliegue el sistema en un entorno web, de modo de constatar que el sistema recomendador funciona en un entorno e-commerce."
   ]
  },
  {
   "cell_type": "markdown",
   "id": "f12966c8-6845-4f08-b150-817933dabfae",
   "metadata": {},
   "source": [
    "## Problema 3: Detección de anomalías\n",
    "\n",
    "Basado en un dataset que contiene mediciones del **consumo de energía eléctrica** en un hogar con una tasa de muestreo de un minuto durante un período de casi 4 años. Están disponibles diferentes magnitudes eléctricas y algunos valores de submedición.\n",
    "\n",
    "**Dataset**: [https://patricioaraneda.cl/public_data/household_power_consumption.txt](https://patricioaraneda.cl/public_data/household_power_consumption.txt)\n",
    "\n",
    "Información de atributos:\n",
    "1. dt: Fecha en formato dd/mm/aaaa hh:mm:ss\n",
    "2. Global_active_power: potencia activa global promediada por minuto del hogar (en kilovatios)\n",
    "3. Global_reactive_power: potencia reactiva global media por minuto del hogar (en kilovatios)\n",
    "4. voltage: voltaje medio por minuto (en voltios)\n",
    "5. Global_intensity: intensidad de corriente promediada por minutos global del hogar (en amperios)\n",
    "6. Sub_metering_1: submedición de energía nº 1 (en vatios-hora de energía activa). Corresponde a la cocina, que contiene principalmente un lavavajillas, un horno y un microondas (las placas no son eléctricas sino de gas).\n",
    "7. Sub_metering_2: submedición de energía nº 2 (en vatios-hora de energía activa). Corresponde al lavadero, que contiene una lavadora, una secadora, un frigorífico y una luz.\n",
    "8. Sub_metering_3: submedición de energía nº 3 (en vatios-hora de energía activa). Corresponde a un calentador de agua eléctrico y a un aire acondicionado.\n",
    "\n",
    "### Indicaciones\n",
    "\n",
    "Complete el código solicitado y atengase a responder las preguntas asociadas. Recuerde que hay muchas formas de encontrar soluciones entre las muchas funciones disponibles para ello. Elija la mejor disponible.\n",
    "\n",
    "Las librerías mostradas son solo referenciales, sea libre de elegir las que necesite.\n",
    "\n",
    "Recuerde; sin E.D.A. no hay Data Science. \n"
   ]
  },
  {
   "cell_type": "code",
   "execution_count": 14,
   "id": "fd614281-f9b1-43bf-8064-c3c72c22d03a",
   "metadata": {},
   "outputs": [],
   "source": [
    "import numpy as np\n",
    "import pandas as pd\n",
    "from matplotlib import pyplot as plt\n",
    "import seaborn as sns\n",
    "plt.style.use('seaborn')"
   ]
  },
  {
   "cell_type": "markdown",
   "id": "0880573d-e3e4-4d37-851e-454cbe8d45bd",
   "metadata": {},
   "source": [
    "Cargue los datos en un objeto llamado 'df'"
   ]
  },
  {
   "cell_type": "code",
   "execution_count": 17,
   "id": "2852a564-eec0-485a-997e-693523d9ff9b",
   "metadata": {},
   "outputs": [],
   "source": [
    "# \n"
   ]
  },
  {
   "cell_type": "markdown",
   "id": "6ca534fa-e7c0-4274-9d7f-96b591a306de",
   "metadata": {},
   "source": [
    "1. ¿Cuantos registros tiene el dataset?"
   ]
  },
  {
   "cell_type": "code",
   "execution_count": 3,
   "id": "75a860c5-017d-4c01-8d48-4cbbdeef461c",
   "metadata": {},
   "outputs": [],
   "source": [
    "# ingrese su codigo y su respuesta\n"
   ]
  },
  {
   "cell_type": "markdown",
   "id": "84cb1e72-035c-4aad-aa6f-dd652b02adac",
   "metadata": {},
   "source": [
    "2. ¿Cuál es el tipo de la variable 'Voltage'"
   ]
  },
  {
   "cell_type": "code",
   "execution_count": 4,
   "id": "02fdb582-2ac9-4f37-9b31-e832826bb7bd",
   "metadata": {},
   "outputs": [],
   "source": [
    "# ingrese su codigo y su respuesta\n"
   ]
  },
  {
   "cell_type": "markdown",
   "id": "1cb612fa-5e02-4a51-be25-379535547073",
   "metadata": {},
   "source": [
    "3. ¿cuáles son los valores mínimo y máximo de la variable 'Voltage'?"
   ]
  },
  {
   "cell_type": "code",
   "execution_count": 5,
   "id": "a5134fd3-ee2b-405d-ba24-cd081767149f",
   "metadata": {},
   "outputs": [],
   "source": [
    "# ingrese su codigo y su respuesta\n"
   ]
  },
  {
   "cell_type": "markdown",
   "id": "e6c2b331-9a03-4977-a5cd-c11c6d408bdc",
   "metadata": {},
   "source": [
    "4. ¿Existe alguna variable con más del 30% de valores faltantes?"
   ]
  },
  {
   "cell_type": "code",
   "execution_count": 6,
   "id": "ca836995-684e-41a4-ac68-6c133c399df5",
   "metadata": {},
   "outputs": [],
   "source": [
    "# ingrese su codigo y su respuesta\n"
   ]
  },
  {
   "cell_type": "markdown",
   "id": "6bf68709-f3ad-41db-b628-cc9bc5bdbf3f",
   "metadata": {},
   "source": [
    "5. ¿Cuál es la cantidad de variables categóricas en el dataset? y numéricas?"
   ]
  },
  {
   "cell_type": "code",
   "execution_count": 7,
   "id": "e928dccc-15cc-4b6e-b4f5-73fbeea93d49",
   "metadata": {},
   "outputs": [],
   "source": [
    "# ingrese su codigo y su respuesta\n"
   ]
  },
  {
   "cell_type": "markdown",
   "id": "90ed8dfc-5345-412a-8f97-9283c7678a4e",
   "metadata": {},
   "source": [
    "6. Para los algoritmos de clustering el dataset no puede tener instancias con datos faltantes. ¿Tiene este dataset datos faltantes?"
   ]
  },
  {
   "cell_type": "code",
   "execution_count": 8,
   "id": "9ba20b5b-0e9a-49c2-bc8f-f65bbafd7164",
   "metadata": {},
   "outputs": [],
   "source": [
    "# ingrese su codigo y su respuesta\n"
   ]
  },
  {
   "cell_type": "markdown",
   "id": "e369e626-39c7-4418-9cce-025db94d4d78",
   "metadata": {},
   "source": [
    "7. Si existieran datos faltantes, se prescindirá de ellos."
   ]
  },
  {
   "cell_type": "code",
   "execution_count": 9,
   "id": "797cedd8-8af6-4b5f-819f-7f6f9ca5d688",
   "metadata": {},
   "outputs": [],
   "source": [
    "# omita los datos faltantes si es que existen.\n"
   ]
  },
  {
   "cell_type": "markdown",
   "id": "f24803bb-b579-4fcd-8df3-b772bab9dd3f",
   "metadata": {},
   "source": [
    "8. Determine las correlaciones de Pearson de las variables."
   ]
  },
  {
   "cell_type": "code",
   "execution_count": 10,
   "id": "75273032-b3b3-4996-a21f-70555f007e3f",
   "metadata": {},
   "outputs": [],
   "source": [
    "# establezca la correlación entre variables\n"
   ]
  },
  {
   "cell_type": "markdown",
   "id": "fed55f2e-2d86-4004-bdb3-47b0e3c98978",
   "metadata": {},
   "source": [
    "9. ¿Puede eliminar alguna variable? si es así eliminelas. Analice y justifique su elección."
   ]
  },
  {
   "cell_type": "code",
   "execution_count": 11,
   "id": "390d2fa5-2c01-41bd-9e49-6584e3e12e45",
   "metadata": {},
   "outputs": [],
   "source": [
    "# elimine variables que considere factibles de eliminar\n"
   ]
  },
  {
   "cell_type": "markdown",
   "id": "56bc6eb4-6af1-4c38-963e-d5207858e966",
   "metadata": {},
   "source": [
    "10.¿Algún gráfico al menos preliminar para mostrar los datos de mayor interés?"
   ]
  },
  {
   "cell_type": "code",
   "execution_count": 12,
   "id": "a2eea0e2-daea-47e2-bc2d-3de88664a41a",
   "metadata": {},
   "outputs": [],
   "source": [
    "# presente uno o mas gráficos para \"conocer\" los datos de interés.\n"
   ]
  },
  {
   "cell_type": "markdown",
   "id": "080ddfa6-b729-42df-9de8-1fbf3c6ba7b4",
   "metadata": {},
   "source": [
    "### Bien, ahora podemos entrar en materia."
   ]
  },
  {
   "cell_type": "markdown",
   "id": "c7399fe6-5e79-406c-b797-217404f00a70",
   "metadata": {},
   "source": [
    "Basado en el algoritmo del Bosque de aislamiento (Isolation forest) realice **los procedimientos necesarios** para detectar si hay o no **valores anómalos** en el dataset."
   ]
  },
  {
   "cell_type": "markdown",
   "id": "c80583d1-41dd-4edc-99c6-a808582e885d",
   "metadata": {},
   "source": [
    "- Reserve un 5% de los datos iniciales para pruebas del modelo con datos no vistos.\n",
    "- Utilice del restante el 80% para entrenamiento y el 20% para test\n",
    "- Defina y ajuste el modelo.\n",
    "- Evalue el modelo.\n",
    "- Determine la cantidad de anomalías.\n",
    "- Efectúe una predicción sobre el 5% de datos reservados del inicio."
   ]
  },
  {
   "cell_type": "code",
   "execution_count": null,
   "id": "1d94d188-1e8f-4f7b-9a6c-00dca04b90a3",
   "metadata": {},
   "outputs": [],
   "source": [
    "# procedimientos\n"
   ]
  },
  {
   "cell_type": "markdown",
   "id": "a41ac2c7-a705-4f7f-8abb-d9a37786d350",
   "metadata": {},
   "source": [
    "Incluya un plot 3d TSNE para los outliers"
   ]
  },
  {
   "cell_type": "code",
   "execution_count": null,
   "id": "d377bde8-13f5-40db-b4f1-0d680060550c",
   "metadata": {},
   "outputs": [],
   "source": [
    "# plot 3d TSNE\n"
   ]
  },
  {
   "cell_type": "markdown",
   "id": "c1cf7c5f-78b1-416e-9109-9d84fcb28e1d",
   "metadata": {},
   "source": [
    "Pruebe el modelo obtenido."
   ]
  },
  {
   "cell_type": "code",
   "execution_count": null,
   "id": "e8a779fb-e9e8-4204-8426-e061a1cbff6f",
   "metadata": {},
   "outputs": [],
   "source": []
  }
 ],
 "metadata": {
  "kernelspec": {
   "display_name": "Python 3 (ipykernel)",
   "language": "python",
   "name": "python3"
  },
  "language_info": {
   "codemirror_mode": {
    "name": "ipython",
    "version": 3
   },
   "file_extension": ".py",
   "mimetype": "text/x-python",
   "name": "python",
   "nbconvert_exporter": "python",
   "pygments_lexer": "ipython3",
   "version": "3.9.7"
  }
 },
 "nbformat": 4,
 "nbformat_minor": 5
}
